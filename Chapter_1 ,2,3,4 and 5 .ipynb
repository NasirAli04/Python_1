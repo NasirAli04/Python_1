{
 "cells": [
  {
   "cell_type": "markdown",
   "id": "2f13cfb7-3944-4a2b-b1dd-7d399acc608f",
   "metadata": {},
   "source": [
    "# Chapter 1"
   ]
  },
  {
   "cell_type": "markdown",
   "id": "bbf26695-9714-4569-a6f4-bff25981df8f",
   "metadata": {},
   "source": [
    "## 1.1 Hello world Program"
   ]
  },
  {
   "cell_type": "code",
   "execution_count": 6,
   "id": "99401732-bba1-4a8c-b6c3-b8d32f8b4fb1",
   "metadata": {},
   "outputs": [
    {
     "name": "stdout",
     "output_type": "stream",
     "text": [
      "Hello world\n"
     ]
    }
   ],
   "source": [
    "print('Hello world')"
   ]
  },
  {
   "cell_type": "code",
   "execution_count": 17,
   "id": "6fa06581-7b9b-4930-9d39-84d426407da1",
   "metadata": {},
   "outputs": [
    {
     "data": {
      "text/plain": [
       "30"
      ]
     },
     "execution_count": 17,
     "metadata": {},
     "output_type": "execute_result"
    }
   ],
   "source": [
    "a=20\n",
    "x=30\n",
    "a\n",
    "x"
   ]
  },
  {
   "cell_type": "code",
   "execution_count": 19,
   "id": "194c9988-ae95-4a44-bd9d-12be0cd2d12b",
   "metadata": {},
   "outputs": [
    {
     "name": "stdout",
     "output_type": "stream",
     "text": [
      "Nasir's class is borrrring\n"
     ]
    }
   ],
   "source": [
    "print(\"Nasir's class is borrrring\")"
   ]
  },
  {
   "cell_type": "code",
   "execution_count": 20,
   "id": "ee34b1d6-a0c3-484f-b461-842a43f90de8",
   "metadata": {},
   "outputs": [
    {
     "name": "stdout",
     "output_type": "stream",
     "text": [
      "\"Nasir\" class is borrrring\n"
     ]
    }
   ],
   "source": [
    "print('''\"Nasir\" class is borrrring''')"
   ]
  },
  {
   "cell_type": "markdown",
   "id": "36fb45a4-75b8-4eb9-95e9-a0fac4d8ab8a",
   "metadata": {},
   "source": [
    "## 1.2 Variables \n"
   ]
  },
  {
   "cell_type": "code",
   "execution_count": 22,
   "id": "b166802d-0ae9-4a75-a034-fa8f321c97b8",
   "metadata": {},
   "outputs": [
    {
     "name": "stdout",
     "output_type": "stream",
     "text": [
      "10\n"
     ]
    }
   ],
   "source": [
    "x=10\n",
    "print(x)"
   ]
  },
  {
   "cell_type": "code",
   "execution_count": 23,
   "id": "acf850e9-d7fb-42f6-bd1e-4574dcfaae29",
   "metadata": {},
   "outputs": [
    {
     "data": {
      "text/plain": [
       "int"
      ]
     },
     "execution_count": 23,
     "metadata": {},
     "output_type": "execute_result"
    }
   ],
   "source": [
    "type(x)"
   ]
  },
  {
   "cell_type": "code",
   "execution_count": 24,
   "id": "397f0a3c-8adf-481a-b565-442c37cc6fd1",
   "metadata": {},
   "outputs": [
    {
     "data": {
      "text/plain": [
       "float"
      ]
     },
     "execution_count": 24,
     "metadata": {},
     "output_type": "execute_result"
    }
   ],
   "source": [
    "x=10.2\n",
    "type(x)"
   ]
  },
  {
   "cell_type": "code",
   "execution_count": 25,
   "id": "2ae9bfee-5fd3-47a8-8e19-305c971916a9",
   "metadata": {},
   "outputs": [
    {
     "ename": "SyntaxError",
     "evalue": "invalid decimal literal (784211426.py, line 1)",
     "output_type": "error",
     "traceback": [
      "\u001b[1;36m  Cell \u001b[1;32mIn[25], line 1\u001b[1;36m\u001b[0m\n\u001b[1;33m    1x=20\u001b[0m\n\u001b[1;37m    ^\u001b[0m\n\u001b[1;31mSyntaxError\u001b[0m\u001b[1;31m:\u001b[0m invalid decimal literal\n"
     ]
    }
   ],
   "source": [
    "1x=20"
   ]
  },
  {
   "cell_type": "code",
   "execution_count": 26,
   "id": "113db721-35c4-4850-b309-6f6e8635fb33",
   "metadata": {},
   "outputs": [],
   "source": [
    "_1x=20"
   ]
  },
  {
   "cell_type": "code",
   "execution_count": 27,
   "id": "4bcf459b-d96b-40a0-9ac4-f2db42bf3981",
   "metadata": {},
   "outputs": [
    {
     "ename": "SyntaxError",
     "evalue": "invalid syntax (2491877635.py, line 1)",
     "output_type": "error",
     "traceback": [
      "\u001b[1;36m  Cell \u001b[1;32mIn[27], line 1\u001b[1;36m\u001b[0m\n\u001b[1;33m    @=20\u001b[0m\n\u001b[1;37m    ^\u001b[0m\n\u001b[1;31mSyntaxError\u001b[0m\u001b[1;31m:\u001b[0m invalid syntax\n"
     ]
    }
   ],
   "source": [
    "@=20"
   ]
  },
  {
   "attachments": {},
   "cell_type": "markdown",
   "id": "d34e580e-d37f-4f37-b4fb-bdcb5704929f",
   "metadata": {},
   "source": [
    "## 1.3 Python Comments"
   ]
  },
  {
   "cell_type": "code",
   "execution_count": 37,
   "id": "982f8e1f-b457-4b2f-8017-b71b42599022",
   "metadata": {},
   "outputs": [
    {
     "name": "stdout",
     "output_type": "stream",
     "text": [
      "30\n"
     ]
    }
   ],
   "source": [
    "# Sum of a and b\n",
    "\n",
    "''' \n",
    "sum of a and b \n",
    "helo \n",
    "'''\n",
    "a=10\n",
    "b=20\n",
    "sum=a+b\n",
    "print(sum)"
   ]
  },
  {
   "cell_type": "markdown",
   "id": "38f946e0-0bfa-45ca-b34e-41b723d059dd",
   "metadata": {},
   "source": [
    "## 1.4 Data type"
   ]
  },
  {
   "cell_type": "code",
   "execution_count": 38,
   "id": "547058f3-ad90-4ba7-b4b8-e2ff866433b3",
   "metadata": {},
   "outputs": [],
   "source": [
    "a=10"
   ]
  },
  {
   "cell_type": "code",
   "execution_count": 39,
   "id": "917d68f0-70fa-475a-85cb-95581eb0b49d",
   "metadata": {},
   "outputs": [],
   "source": [
    "b=10.2"
   ]
  },
  {
   "cell_type": "code",
   "execution_count": 40,
   "id": "a0cd01bd-5b7c-410f-ba20-f416a68192f4",
   "metadata": {},
   "outputs": [],
   "source": [
    "c=3+5j"
   ]
  },
  {
   "cell_type": "code",
   "execution_count": 43,
   "id": "f5818045-b8b4-4f5f-8139-7d61ee5fb6fd",
   "metadata": {},
   "outputs": [
    {
     "data": {
      "text/plain": [
       "False"
      ]
     },
     "execution_count": 43,
     "metadata": {},
     "output_type": "execute_result"
    }
   ],
   "source": [
    "(1==0)"
   ]
  },
  {
   "cell_type": "code",
   "execution_count": 45,
   "id": "1b5e5255-d763-4037-bf37-8e1c50eeadb5",
   "metadata": {},
   "outputs": [],
   "source": [
    "Name=\"ARUN\""
   ]
  },
  {
   "cell_type": "code",
   "execution_count": 46,
   "id": "17961ba8-6f46-4ebd-9207-8c5523425615",
   "metadata": {},
   "outputs": [
    {
     "data": {
      "text/plain": [
       "'ARUN'"
      ]
     },
     "execution_count": 46,
     "metadata": {},
     "output_type": "execute_result"
    }
   ],
   "source": [
    "Name"
   ]
  },
  {
   "cell_type": "code",
   "execution_count": 47,
   "id": "e287dace-ece0-4b49-967f-0658a41d1a3d",
   "metadata": {},
   "outputs": [
    {
     "data": {
      "text/plain": [
       "float"
      ]
     },
     "execution_count": 47,
     "metadata": {},
     "output_type": "execute_result"
    }
   ],
   "source": [
    "type(b)"
   ]
  },
  {
   "cell_type": "markdown",
   "id": "7c84bc01-36d0-44fe-aa23-125c78f22dc1",
   "metadata": {},
   "source": [
    "# Chapter 2"
   ]
  },
  {
   "cell_type": "markdown",
   "id": "b638e70e-6902-492d-846c-bf1ead19b1cc",
   "metadata": {},
   "source": [
    "## Indexing"
   ]
  },
  {
   "cell_type": "code",
   "execution_count": 50,
   "id": "8f1183c8-780a-4462-8a24-5bc8ed0192d7",
   "metadata": {},
   "outputs": [],
   "source": [
    "Name=\"ARUN KUMAR\""
   ]
  },
  {
   "cell_type": "code",
   "execution_count": 51,
   "id": "caf6e63a-e19f-4241-91d7-d9f713dcfe87",
   "metadata": {},
   "outputs": [
    {
     "data": {
      "text/plain": [
       "'ARUN KUMAR'"
      ]
     },
     "execution_count": 51,
     "metadata": {},
     "output_type": "execute_result"
    }
   ],
   "source": [
    "Name"
   ]
  },
  {
   "cell_type": "code",
   "execution_count": 55,
   "id": "fdfa5256-6a90-4581-8829-6ce3380b34f5",
   "metadata": {},
   "outputs": [
    {
     "data": {
      "text/plain": [
       "'M'"
      ]
     },
     "execution_count": 55,
     "metadata": {},
     "output_type": "execute_result"
    }
   ],
   "source": [
    "Name[-3]"
   ]
  },
  {
   "cell_type": "markdown",
   "id": "564343f8-a907-4e7a-a910-06bd69bb1854",
   "metadata": {},
   "source": [
    "## Slicing"
   ]
  },
  {
   "cell_type": "code",
   "execution_count": 57,
   "id": "8bc61b78-6c33-468a-81a2-e388fead8bf7",
   "metadata": {
    "scrolled": true
   },
   "outputs": [
    {
     "data": {
      "text/plain": [
       "'ARUN'"
      ]
     },
     "execution_count": 57,
     "metadata": {},
     "output_type": "execute_result"
    }
   ],
   "source": [
    "Name[0:4]"
   ]
  },
  {
   "cell_type": "code",
   "execution_count": 58,
   "id": "30f6983c-5240-45f2-a7a6-3071f9d37c4f",
   "metadata": {},
   "outputs": [
    {
     "data": {
      "text/plain": [
       "'KUMAR'"
      ]
     },
     "execution_count": 58,
     "metadata": {},
     "output_type": "execute_result"
    }
   ],
   "source": [
    "Name[5:10]"
   ]
  },
  {
   "cell_type": "code",
   "execution_count": 59,
   "id": "48c587c6-6694-461e-8308-76800c52415e",
   "metadata": {},
   "outputs": [
    {
     "ename": "IndexError",
     "evalue": "string index out of range",
     "output_type": "error",
     "traceback": [
      "\u001b[1;31m---------------------------------------------------------------------------\u001b[0m",
      "\u001b[1;31mIndexError\u001b[0m                                Traceback (most recent call last)",
      "Cell \u001b[1;32mIn[59], line 1\u001b[0m\n\u001b[1;32m----> 1\u001b[0m \u001b[43mName\u001b[49m\u001b[43m[\u001b[49m\u001b[38;5;241;43m10\u001b[39;49m\u001b[43m]\u001b[49m\n",
      "\u001b[1;31mIndexError\u001b[0m: string index out of range"
     ]
    }
   ],
   "source": [
    "Name[10]"
   ]
  },
  {
   "cell_type": "markdown",
   "id": "6dc28031-4909-48af-95d4-3cd74caa3380",
   "metadata": {},
   "source": [
    "## Concat"
   ]
  },
  {
   "cell_type": "code",
   "execution_count": 1,
   "id": "faac2e48-b9be-4829-b6b1-8eb07fd84fc9",
   "metadata": {},
   "outputs": [],
   "source": [
    "first_name=\"ARUN\""
   ]
  },
  {
   "cell_type": "code",
   "execution_count": 3,
   "id": "f9ed3d90-0e17-48f1-93fe-465c80a8cdb9",
   "metadata": {},
   "outputs": [],
   "source": [
    "last_name=\"KUMAR\""
   ]
  },
  {
   "cell_type": "code",
   "execution_count": 4,
   "id": "376b3156-d5d0-488c-ae60-37f9234838ec",
   "metadata": {},
   "outputs": [],
   "source": [
    "full_name=first_name + last_name"
   ]
  },
  {
   "cell_type": "code",
   "execution_count": 5,
   "id": "779ec5da-6e96-4221-95d6-83f0b4ebcfae",
   "metadata": {},
   "outputs": [
    {
     "data": {
      "text/plain": [
       "'ARUNKUMAR'"
      ]
     },
     "execution_count": 5,
     "metadata": {},
     "output_type": "execute_result"
    }
   ],
   "source": [
    "full_name"
   ]
  },
  {
   "cell_type": "code",
   "execution_count": 12,
   "id": "ecd1dbaa-352e-4a31-bcdf-fc16e63ea89c",
   "metadata": {},
   "outputs": [],
   "source": [
    "full_name=first_name + \" \" + last_name"
   ]
  },
  {
   "cell_type": "code",
   "execution_count": 13,
   "id": "bd0e30a4-6e04-47d0-a894-ded771a035a7",
   "metadata": {},
   "outputs": [
    {
     "data": {
      "text/plain": [
       "'ARUN KUMAR'"
      ]
     },
     "execution_count": 13,
     "metadata": {},
     "output_type": "execute_result"
    }
   ],
   "source": [
    "full_name"
   ]
  },
  {
   "cell_type": "markdown",
   "id": "e7a0972b-e4f9-4969-98ab-719c2a080320",
   "metadata": {},
   "source": [
    "## Sting methods"
   ]
  },
  {
   "cell_type": "code",
   "execution_count": 16,
   "id": "e22536ca-bc5f-4d36-b021-24db86630d72",
   "metadata": {},
   "outputs": [],
   "source": [
    "full_name=full_name.lower()"
   ]
  },
  {
   "cell_type": "code",
   "execution_count": 17,
   "id": "2c5bcdc1-5dcb-4f71-93e7-782748dba938",
   "metadata": {},
   "outputs": [
    {
     "data": {
      "text/plain": [
       "'arun kumar'"
      ]
     },
     "execution_count": 17,
     "metadata": {},
     "output_type": "execute_result"
    }
   ],
   "source": [
    "full_name"
   ]
  },
  {
   "cell_type": "code",
   "execution_count": 19,
   "id": "66ee6f91-bf48-4261-8a92-0ce7b0ba7ea4",
   "metadata": {},
   "outputs": [
    {
     "data": {
      "text/plain": [
       "'Arun kumar'"
      ]
     },
     "execution_count": 19,
     "metadata": {},
     "output_type": "execute_result"
    }
   ],
   "source": [
    "full_name.capitalize()"
   ]
  },
  {
   "cell_type": "code",
   "execution_count": 20,
   "id": "3e98f4d9-6525-46c8-b732-d431845bd405",
   "metadata": {},
   "outputs": [
    {
     "data": {
      "text/plain": [
       "'arun kumar'"
      ]
     },
     "execution_count": 20,
     "metadata": {},
     "output_type": "execute_result"
    }
   ],
   "source": [
    "full_name.casefold()"
   ]
  },
  {
   "cell_type": "code",
   "execution_count": 21,
   "id": "0f4e2d35-5d6c-4810-88a3-5a2fd3cdc150",
   "metadata": {
    "scrolled": true
   },
   "outputs": [
    {
     "ename": "TypeError",
     "evalue": "find() takes at least 1 argument (0 given)",
     "output_type": "error",
     "traceback": [
      "\u001b[1;31m---------------------------------------------------------------------------\u001b[0m",
      "\u001b[1;31mTypeError\u001b[0m                                 Traceback (most recent call last)",
      "Cell \u001b[1;32mIn[21], line 1\u001b[0m\n\u001b[1;32m----> 1\u001b[0m \u001b[43mfull_name\u001b[49m\u001b[38;5;241;43m.\u001b[39;49m\u001b[43mfind\u001b[49m\u001b[43m(\u001b[49m\u001b[43m)\u001b[49m\n",
      "\u001b[1;31mTypeError\u001b[0m: find() takes at least 1 argument (0 given)"
     ]
    }
   ],
   "source": [
    "full_name.find()"
   ]
  },
  {
   "cell_type": "code",
   "execution_count": null,
   "id": "c9305bdb-a7b3-48af-8c79-2d29b7432894",
   "metadata": {},
   "outputs": [],
   "source": [
    "full_name."
   ]
  },
  {
   "cell_type": "markdown",
   "id": "de92bd9c-9b93-49f2-a76f-a38823d25711",
   "metadata": {},
   "source": [
    "# Chapter 3"
   ]
  },
  {
   "cell_type": "markdown",
   "id": "09d56c5c-a2ff-45af-8cec-4f4aeb40d76b",
   "metadata": {},
   "source": [
    "## Input Function"
   ]
  },
  {
   "cell_type": "code",
   "execution_count": 4,
   "id": "920543c6-726c-4ed9-8d20-085325421508",
   "metadata": {},
   "outputs": [
    {
     "name": "stdin",
     "output_type": "stream",
     "text": [
      "Enter the first num:  10\n",
      "Enter the second num:  25\n"
     ]
    },
    {
     "name": "stdout",
     "output_type": "stream",
     "text": [
      "35\n"
     ]
    }
   ],
   "source": [
    "a=int(input(\"Enter the first num: \"))\n",
    "b=int(input(\"Enter the second num: \"))\n",
    "sum=a+b\n",
    "print(sum)"
   ]
  },
  {
   "cell_type": "code",
   "execution_count": 7,
   "id": "c8e09f77-5351-4ed3-a6f5-0f43fc28830e",
   "metadata": {},
   "outputs": [
    {
     "name": "stdin",
     "output_type": "stream",
     "text": [
      "enter the name Nasir\n",
      "enter the age 10\n"
     ]
    }
   ],
   "source": [
    "name=input(\"enter the name\")\n",
    "age=input(\"enter the age\")"
   ]
  },
  {
   "cell_type": "code",
   "execution_count": 9,
   "id": "bbab4c95-09c4-47b1-8805-1cfced0b514c",
   "metadata": {},
   "outputs": [
    {
     "name": "stdout",
     "output_type": "stream",
     "text": [
      "HelloNasir your 10old\n"
     ]
    }
   ],
   "source": [
    "print(\"Hello\" + name +\" your \"+ age + \"old\")"
   ]
  },
  {
   "cell_type": "markdown",
   "id": "6eef7659-aebd-4f4e-92f0-6ac54c8816f8",
   "metadata": {},
   "source": [
    "## f string"
   ]
  },
  {
   "cell_type": "code",
   "execution_count": 10,
   "id": "5dfc69c9-399b-444a-8ece-cc2e880aec2a",
   "metadata": {},
   "outputs": [
    {
     "name": "stdout",
     "output_type": "stream",
     "text": [
      " Hello Nasir you are 10 years old \n"
     ]
    }
   ],
   "source": [
    "print(f\" Hello {name} you are {age} years old \") # Imp"
   ]
  },
  {
   "cell_type": "code",
   "execution_count": 11,
   "id": "d48e300d-b351-43a0-8994-16d0d26e3a81",
   "metadata": {},
   "outputs": [
    {
     "name": "stdout",
     "output_type": "stream",
     "text": [
      " Hello Nasir you are 15 years old \n"
     ]
    }
   ],
   "source": [
    "print(f\" Hello {name} you are {int(age)+5} years old \") # Imp"
   ]
  },
  {
   "attachments": {},
   "cell_type": "markdown",
   "id": "e7da048d-c058-4148-8012-d647c2a3a830",
   "metadata": {},
   "source": [
    "## Conditional statements \r\n",
    "\r\n"
   ]
  },
  {
   "cell_type": "markdown",
   "id": "80559394-8a8a-4def-aa8a-c7a98ba37134",
   "metadata": {},
   "source": [
    "## if "
   ]
  },
  {
   "cell_type": "code",
   "execution_count": 18,
   "id": "ef68771e-40d4-4434-8436-64e9506a692d",
   "metadata": {},
   "outputs": [
    {
     "name": "stdin",
     "output_type": "stream",
     "text": [
      "enter the age 50\n"
     ]
    },
    {
     "name": "stdout",
     "output_type": "stream",
     "text": [
      "byeee\n"
     ]
    }
   ],
   "source": [
    "age=int(input(\"enter the age\"))\n",
    "\n",
    "P_age=10\n",
    "\n",
    "if age<P_age:\n",
    "    print(\"you can enter\")\n",
    "\n",
    "print(\"byeee\")\n",
    "    "
   ]
  },
  {
   "cell_type": "markdown",
   "id": "ff43c970-6442-40e2-b6c1-3485d7da7fca",
   "metadata": {},
   "source": [
    "##  if else"
   ]
  },
  {
   "cell_type": "code",
   "execution_count": 19,
   "id": "d315c345-440d-4ceb-b7bf-eb438a78f8dd",
   "metadata": {},
   "outputs": [
    {
     "name": "stdin",
     "output_type": "stream",
     "text": [
      "enter the age 20\n"
     ]
    },
    {
     "name": "stdout",
     "output_type": "stream",
     "text": [
      "you cant enter\n",
      "byeee\n"
     ]
    }
   ],
   "source": [
    "age=int(input(\"enter the age\"))\n",
    "\n",
    "P_age=10\n",
    "\n",
    "if age<P_age:\n",
    "    print(\"you can enter\")\n",
    "\n",
    "else:\n",
    "    print('you cant enter')\n",
    "\n",
    "print(\"byeee\")\n",
    "    "
   ]
  },
  {
   "cell_type": "markdown",
   "id": "dd4f12ef-aaa4-47f5-bd84-711d35711a6e",
   "metadata": {},
   "source": [
    "## if elif else"
   ]
  },
  {
   "cell_type": "code",
   "execution_count": 23,
   "id": "a7e222ff-d234-4138-8628-26e7d86a87b9",
   "metadata": {},
   "outputs": [
    {
     "name": "stdin",
     "output_type": "stream",
     "text": [
      "Enter the first num:  200\n",
      "Enter the second num:  10\n"
     ]
    },
    {
     "name": "stdout",
     "output_type": "stream",
     "text": [
      "b is less than a\n"
     ]
    }
   ],
   "source": [
    "a=int(input(\"Enter the first num: \"))\n",
    "b=int(input(\"Enter the second num: \"))\n",
    "\n",
    "if b>a:\n",
    "    print(\"b is greater than a\")\n",
    "\n",
    "elif b==a:\n",
    "    print(\"a and b are equal\")\n",
    "\n",
    "else:\n",
    "    print(\"b is less than a\")\n"
   ]
  },
  {
   "cell_type": "markdown",
   "id": "700c98cd-2f26-40a4-8cec-8cb3d846fdfe",
   "metadata": {},
   "source": [
    "## While Loops"
   ]
  },
  {
   "cell_type": "code",
   "execution_count": 27,
   "id": "6a18468f-d6e2-434b-8a45-69d3aba5ed92",
   "metadata": {},
   "outputs": [
    {
     "name": "stdout",
     "output_type": "stream",
     "text": [
      "hello\n",
      "0\n",
      "hello\n",
      "1\n",
      "hello\n",
      "2\n",
      "hello\n",
      "3\n",
      "hello\n",
      "4\n",
      "hello\n",
      "5\n"
     ]
    }
   ],
   "source": [
    "i=0\n",
    "while i<6:\n",
    "    print('hello')\n",
    "    print(i)\n",
    "\n",
    "    i+=1"
   ]
  },
  {
   "cell_type": "markdown",
   "id": "6c98e852-f5fa-4736-b565-a070def079a4",
   "metadata": {},
   "source": [
    "## for"
   ]
  },
  {
   "cell_type": "code",
   "execution_count": 28,
   "id": "3c834069-d1bc-46a6-8754-bc4db3facf00",
   "metadata": {},
   "outputs": [
    {
     "name": "stdout",
     "output_type": "stream",
     "text": [
      "50\n",
      "52\n",
      "60\n",
      "62\n",
      "70\n",
      "72\n",
      "85\n",
      "87\n",
      "90\n",
      "92\n"
     ]
    }
   ],
   "source": [
    "a=[50,60,70,85,90]\n",
    "\n",
    "for i in a:\n",
    "    print(i)\n",
    "    print(i+2)"
   ]
  },
  {
   "cell_type": "markdown",
   "id": "99643713-7506-4434-91e6-233c480ab685",
   "metadata": {},
   "source": [
    "## break"
   ]
  },
  {
   "cell_type": "code",
   "execution_count": 30,
   "id": "c0094889-3351-445b-8f6d-d9da22ca9244",
   "metadata": {},
   "outputs": [
    {
     "name": "stdout",
     "output_type": "stream",
     "text": [
      "hello\n",
      "0\n",
      "hello\n",
      "1\n",
      "hello\n",
      "2\n",
      "hello\n",
      "3\n",
      "hello\n",
      "4\n",
      "bye\n"
     ]
    }
   ],
   "source": [
    "i=0\n",
    "while i<6:\n",
    "    print('hello')\n",
    "    print(i)\n",
    "\n",
    "    if i==4:\n",
    "        break\n",
    "\n",
    "    i+=1\n",
    "print(\"bye\")"
   ]
  },
  {
   "cell_type": "markdown",
   "id": "db4010d2-0b34-4914-b9c8-570c3e1ab59b",
   "metadata": {},
   "source": [
    "## continue"
   ]
  },
  {
   "cell_type": "code",
   "execution_count": 32,
   "id": "6ec19a55-e1a8-45e9-93c7-9357aefab560",
   "metadata": {},
   "outputs": [
    {
     "name": "stdout",
     "output_type": "stream",
     "text": [
      "1\n",
      "3\n",
      "4\n",
      "5\n",
      "6\n"
     ]
    }
   ],
   "source": [
    "i=0\n",
    "while i<6:\n",
    "    i+=1\n",
    "\n",
    "    if i==2:\n",
    "        continue\n",
    "    print(i)"
   ]
  },
  {
   "cell_type": "markdown",
   "id": "5c60d342-58ad-44ea-bbd7-a0d4870c0b85",
   "metadata": {},
   "source": [
    "# Functions"
   ]
  },
  {
   "cell_type": "code",
   "execution_count": 2,
   "id": "11e4022a-1100-49fe-85cd-6c2280ab960c",
   "metadata": {},
   "outputs": [],
   "source": [
    "def add():\n",
    "    pass\n",
    "    "
   ]
  },
  {
   "cell_type": "code",
   "execution_count": 3,
   "id": "063a86ac-a2bd-4665-803c-3b5f085f14c3",
   "metadata": {},
   "outputs": [],
   "source": [
    "def add(x,y):\n",
    "    sum=x+y\n",
    "    return sum"
   ]
  },
  {
   "cell_type": "code",
   "execution_count": 4,
   "id": "7b46fb73-475f-4f1d-b1db-a15467317295",
   "metadata": {},
   "outputs": [
    {
     "name": "stdout",
     "output_type": "stream",
     "text": [
      "Hii\n"
     ]
    }
   ],
   "source": [
    "print(\"Hii\")"
   ]
  },
  {
   "cell_type": "code",
   "execution_count": 5,
   "id": "e5103a4c-d2f8-4fc9-bf1f-af36fe64f85a",
   "metadata": {},
   "outputs": [
    {
     "name": "stdout",
     "output_type": "stream",
     "text": [
      "byee\n"
     ]
    }
   ],
   "source": [
    "print(\"byee\")"
   ]
  },
  {
   "cell_type": "code",
   "execution_count": 6,
   "id": "6f612300-fc83-4f1f-9964-320a95fe69f5",
   "metadata": {},
   "outputs": [
    {
     "data": {
      "text/plain": [
       "30"
      ]
     },
     "execution_count": 6,
     "metadata": {},
     "output_type": "execute_result"
    }
   ],
   "source": [
    "add(10,20)"
   ]
  },
  {
   "cell_type": "markdown",
   "id": "8de0320d-7e2f-4101-af29-e1384819eadc",
   "metadata": {},
   "source": [
    "## Positional "
   ]
  },
  {
   "cell_type": "code",
   "execution_count": 8,
   "id": "f98a5340-5d8a-4d4d-938e-843f5c9606a6",
   "metadata": {},
   "outputs": [],
   "source": [
    "def greet(name,age):\n",
    "    print(f\" Hi {name} you are {age} years old  welcome to class\")"
   ]
  },
  {
   "cell_type": "code",
   "execution_count": 9,
   "id": "406b3856-a597-44fc-bc2b-b9ea1e38a094",
   "metadata": {},
   "outputs": [
    {
     "name": "stdout",
     "output_type": "stream",
     "text": [
      " Hi Nasir you are 10 years old  welcome to class\n"
     ]
    }
   ],
   "source": [
    "greet(\"Nasir\",10)"
   ]
  },
  {
   "cell_type": "code",
   "execution_count": 10,
   "id": "8efbdc68-c950-4a6a-982e-42c9f5326792",
   "metadata": {},
   "outputs": [
    {
     "name": "stdout",
     "output_type": "stream",
     "text": [
      " Hi 10 you are Nasir years old  welcome to class\n"
     ]
    }
   ],
   "source": [
    "greet(10,\"Nasir\")"
   ]
  },
  {
   "cell_type": "markdown",
   "id": "0e46404c-917a-4cec-805e-3e2cb9c5837a",
   "metadata": {},
   "source": [
    "## Key Word"
   ]
  },
  {
   "cell_type": "code",
   "execution_count": 11,
   "id": "1c6368a6-6619-4de5-b7f7-eeeeb1ba42e1",
   "metadata": {},
   "outputs": [
    {
     "name": "stdout",
     "output_type": "stream",
     "text": [
      " Hi Nasir you are 10 years old  welcome to class\n"
     ]
    }
   ],
   "source": [
    "greet(age=10,name=\"Nasir\")"
   ]
  },
  {
   "cell_type": "code",
   "execution_count": 12,
   "id": "caaceb86-9aca-4edc-88e8-9f55c68a3c7f",
   "metadata": {},
   "outputs": [
    {
     "ename": "SyntaxError",
     "evalue": "positional argument follows keyword argument (3387720048.py, line 1)",
     "output_type": "error",
     "traceback": [
      "\u001b[1;36m  Cell \u001b[1;32mIn[12], line 1\u001b[1;36m\u001b[0m\n\u001b[1;33m    greet(name=\"Hrishikesh\",10)\u001b[0m\n\u001b[1;37m                              ^\u001b[0m\n\u001b[1;31mSyntaxError\u001b[0m\u001b[1;31m:\u001b[0m positional argument follows keyword argument\n"
     ]
    }
   ],
   "source": [
    "greet(name=\"Hrishikesh\",10)"
   ]
  },
  {
   "cell_type": "code",
   "execution_count": 13,
   "id": "4687da28-56d5-4213-b3ab-3152363deecf",
   "metadata": {},
   "outputs": [
    {
     "name": "stdout",
     "output_type": "stream",
     "text": [
      " Hi Hrishikesh you are 10 years old  welcome to class\n"
     ]
    }
   ],
   "source": [
    "greet(\"Hrishikesh\",age=10)"
   ]
  },
  {
   "cell_type": "code",
   "execution_count": 14,
   "id": "a8d11149-e122-410c-bf29-7e9f2b866b27",
   "metadata": {},
   "outputs": [
    {
     "ename": "TypeError",
     "evalue": "greet() missing 1 required positional argument: 'age'",
     "output_type": "error",
     "traceback": [
      "\u001b[1;31m---------------------------------------------------------------------------\u001b[0m",
      "\u001b[1;31mTypeError\u001b[0m                                 Traceback (most recent call last)",
      "Cell \u001b[1;32mIn[14], line 1\u001b[0m\n\u001b[1;32m----> 1\u001b[0m \u001b[43mgreet\u001b[49m\u001b[43m(\u001b[49m\u001b[38;5;124;43m\"\u001b[39;49m\u001b[38;5;124;43mHrishikesh\u001b[39;49m\u001b[38;5;124;43m\"\u001b[39;49m\u001b[43m)\u001b[49m\n",
      "\u001b[1;31mTypeError\u001b[0m: greet() missing 1 required positional argument: 'age'"
     ]
    }
   ],
   "source": [
    "greet(\"Hrishikesh\")"
   ]
  },
  {
   "cell_type": "markdown",
   "id": "9dddb373-4002-4fff-9012-b2264b8e31d1",
   "metadata": {},
   "source": [
    "## Default "
   ]
  },
  {
   "cell_type": "code",
   "execution_count": 18,
   "id": "9a400c0d-8467-4337-840a-b204ee544eab",
   "metadata": {},
   "outputs": [],
   "source": [
    "def greet(name,age,city=\"Mumbai\"):\n",
    "    print(f\" Hi {name} you are {age} years old  welcome to class your city is {city}\")"
   ]
  },
  {
   "cell_type": "code",
   "execution_count": 19,
   "id": "1826dc34-1a92-4ba7-a695-f544fb951579",
   "metadata": {},
   "outputs": [
    {
     "name": "stdout",
     "output_type": "stream",
     "text": [
      " Hi Jagadeeshwari you are 10 years old  welcome to class your city is Mumbai\n"
     ]
    }
   ],
   "source": [
    "greet(\"Jagadeeshwari\",10)"
   ]
  },
  {
   "cell_type": "code",
   "execution_count": 20,
   "id": "ca0bf421-ca78-4763-9f45-374fcbb5dbc2",
   "metadata": {},
   "outputs": [
    {
     "name": "stdout",
     "output_type": "stream",
     "text": [
      " Hi Jagadeeshwari you are 10 years old  welcome to class your city is Goa\n"
     ]
    }
   ],
   "source": [
    "greet(\"Jagadeeshwari\",10,\"Goa\")"
   ]
  },
  {
   "cell_type": "code",
   "execution_count": 24,
   "id": "b4c6388f-cc26-4749-a132-c54c51b1e93d",
   "metadata": {},
   "outputs": [],
   "source": [
    "from sklearn.ensemble import RandomForestClassifier"
   ]
  },
  {
   "cell_type": "code",
   "execution_count": 25,
   "id": "53c2c6c5-9ec5-4179-a5f3-5960a2eaf6e3",
   "metadata": {},
   "outputs": [
    {
     "data": {
      "text/html": [
       "<style>#sk-container-id-1 {\n",
       "  /* Definition of color scheme common for light and dark mode */\n",
       "  --sklearn-color-text: black;\n",
       "  --sklearn-color-line: gray;\n",
       "  /* Definition of color scheme for unfitted estimators */\n",
       "  --sklearn-color-unfitted-level-0: #fff5e6;\n",
       "  --sklearn-color-unfitted-level-1: #f6e4d2;\n",
       "  --sklearn-color-unfitted-level-2: #ffe0b3;\n",
       "  --sklearn-color-unfitted-level-3: chocolate;\n",
       "  /* Definition of color scheme for fitted estimators */\n",
       "  --sklearn-color-fitted-level-0: #f0f8ff;\n",
       "  --sklearn-color-fitted-level-1: #d4ebff;\n",
       "  --sklearn-color-fitted-level-2: #b3dbfd;\n",
       "  --sklearn-color-fitted-level-3: cornflowerblue;\n",
       "\n",
       "  /* Specific color for light theme */\n",
       "  --sklearn-color-text-on-default-background: var(--sg-text-color, var(--theme-code-foreground, var(--jp-content-font-color1, black)));\n",
       "  --sklearn-color-background: var(--sg-background-color, var(--theme-background, var(--jp-layout-color0, white)));\n",
       "  --sklearn-color-border-box: var(--sg-text-color, var(--theme-code-foreground, var(--jp-content-font-color1, black)));\n",
       "  --sklearn-color-icon: #696969;\n",
       "\n",
       "  @media (prefers-color-scheme: dark) {\n",
       "    /* Redefinition of color scheme for dark theme */\n",
       "    --sklearn-color-text-on-default-background: var(--sg-text-color, var(--theme-code-foreground, var(--jp-content-font-color1, white)));\n",
       "    --sklearn-color-background: var(--sg-background-color, var(--theme-background, var(--jp-layout-color0, #111)));\n",
       "    --sklearn-color-border-box: var(--sg-text-color, var(--theme-code-foreground, var(--jp-content-font-color1, white)));\n",
       "    --sklearn-color-icon: #878787;\n",
       "  }\n",
       "}\n",
       "\n",
       "#sk-container-id-1 {\n",
       "  color: var(--sklearn-color-text);\n",
       "}\n",
       "\n",
       "#sk-container-id-1 pre {\n",
       "  padding: 0;\n",
       "}\n",
       "\n",
       "#sk-container-id-1 input.sk-hidden--visually {\n",
       "  border: 0;\n",
       "  clip: rect(1px 1px 1px 1px);\n",
       "  clip: rect(1px, 1px, 1px, 1px);\n",
       "  height: 1px;\n",
       "  margin: -1px;\n",
       "  overflow: hidden;\n",
       "  padding: 0;\n",
       "  position: absolute;\n",
       "  width: 1px;\n",
       "}\n",
       "\n",
       "#sk-container-id-1 div.sk-dashed-wrapped {\n",
       "  border: 1px dashed var(--sklearn-color-line);\n",
       "  margin: 0 0.4em 0.5em 0.4em;\n",
       "  box-sizing: border-box;\n",
       "  padding-bottom: 0.4em;\n",
       "  background-color: var(--sklearn-color-background);\n",
       "}\n",
       "\n",
       "#sk-container-id-1 div.sk-container {\n",
       "  /* jupyter's `normalize.less` sets `[hidden] { display: none; }`\n",
       "     but bootstrap.min.css set `[hidden] { display: none !important; }`\n",
       "     so we also need the `!important` here to be able to override the\n",
       "     default hidden behavior on the sphinx rendered scikit-learn.org.\n",
       "     See: https://github.com/scikit-learn/scikit-learn/issues/21755 */\n",
       "  display: inline-block !important;\n",
       "  position: relative;\n",
       "}\n",
       "\n",
       "#sk-container-id-1 div.sk-text-repr-fallback {\n",
       "  display: none;\n",
       "}\n",
       "\n",
       "div.sk-parallel-item,\n",
       "div.sk-serial,\n",
       "div.sk-item {\n",
       "  /* draw centered vertical line to link estimators */\n",
       "  background-image: linear-gradient(var(--sklearn-color-text-on-default-background), var(--sklearn-color-text-on-default-background));\n",
       "  background-size: 2px 100%;\n",
       "  background-repeat: no-repeat;\n",
       "  background-position: center center;\n",
       "}\n",
       "\n",
       "/* Parallel-specific style estimator block */\n",
       "\n",
       "#sk-container-id-1 div.sk-parallel-item::after {\n",
       "  content: \"\";\n",
       "  width: 100%;\n",
       "  border-bottom: 2px solid var(--sklearn-color-text-on-default-background);\n",
       "  flex-grow: 1;\n",
       "}\n",
       "\n",
       "#sk-container-id-1 div.sk-parallel {\n",
       "  display: flex;\n",
       "  align-items: stretch;\n",
       "  justify-content: center;\n",
       "  background-color: var(--sklearn-color-background);\n",
       "  position: relative;\n",
       "}\n",
       "\n",
       "#sk-container-id-1 div.sk-parallel-item {\n",
       "  display: flex;\n",
       "  flex-direction: column;\n",
       "}\n",
       "\n",
       "#sk-container-id-1 div.sk-parallel-item:first-child::after {\n",
       "  align-self: flex-end;\n",
       "  width: 50%;\n",
       "}\n",
       "\n",
       "#sk-container-id-1 div.sk-parallel-item:last-child::after {\n",
       "  align-self: flex-start;\n",
       "  width: 50%;\n",
       "}\n",
       "\n",
       "#sk-container-id-1 div.sk-parallel-item:only-child::after {\n",
       "  width: 0;\n",
       "}\n",
       "\n",
       "/* Serial-specific style estimator block */\n",
       "\n",
       "#sk-container-id-1 div.sk-serial {\n",
       "  display: flex;\n",
       "  flex-direction: column;\n",
       "  align-items: center;\n",
       "  background-color: var(--sklearn-color-background);\n",
       "  padding-right: 1em;\n",
       "  padding-left: 1em;\n",
       "}\n",
       "\n",
       "\n",
       "/* Toggleable style: style used for estimator/Pipeline/ColumnTransformer box that is\n",
       "clickable and can be expanded/collapsed.\n",
       "- Pipeline and ColumnTransformer use this feature and define the default style\n",
       "- Estimators will overwrite some part of the style using the `sk-estimator` class\n",
       "*/\n",
       "\n",
       "/* Pipeline and ColumnTransformer style (default) */\n",
       "\n",
       "#sk-container-id-1 div.sk-toggleable {\n",
       "  /* Default theme specific background. It is overwritten whether we have a\n",
       "  specific estimator or a Pipeline/ColumnTransformer */\n",
       "  background-color: var(--sklearn-color-background);\n",
       "}\n",
       "\n",
       "/* Toggleable label */\n",
       "#sk-container-id-1 label.sk-toggleable__label {\n",
       "  cursor: pointer;\n",
       "  display: block;\n",
       "  width: 100%;\n",
       "  margin-bottom: 0;\n",
       "  padding: 0.5em;\n",
       "  box-sizing: border-box;\n",
       "  text-align: center;\n",
       "}\n",
       "\n",
       "#sk-container-id-1 label.sk-toggleable__label-arrow:before {\n",
       "  /* Arrow on the left of the label */\n",
       "  content: \"▸\";\n",
       "  float: left;\n",
       "  margin-right: 0.25em;\n",
       "  color: var(--sklearn-color-icon);\n",
       "}\n",
       "\n",
       "#sk-container-id-1 label.sk-toggleable__label-arrow:hover:before {\n",
       "  color: var(--sklearn-color-text);\n",
       "}\n",
       "\n",
       "/* Toggleable content - dropdown */\n",
       "\n",
       "#sk-container-id-1 div.sk-toggleable__content {\n",
       "  max-height: 0;\n",
       "  max-width: 0;\n",
       "  overflow: hidden;\n",
       "  text-align: left;\n",
       "  /* unfitted */\n",
       "  background-color: var(--sklearn-color-unfitted-level-0);\n",
       "}\n",
       "\n",
       "#sk-container-id-1 div.sk-toggleable__content.fitted {\n",
       "  /* fitted */\n",
       "  background-color: var(--sklearn-color-fitted-level-0);\n",
       "}\n",
       "\n",
       "#sk-container-id-1 div.sk-toggleable__content pre {\n",
       "  margin: 0.2em;\n",
       "  border-radius: 0.25em;\n",
       "  color: var(--sklearn-color-text);\n",
       "  /* unfitted */\n",
       "  background-color: var(--sklearn-color-unfitted-level-0);\n",
       "}\n",
       "\n",
       "#sk-container-id-1 div.sk-toggleable__content.fitted pre {\n",
       "  /* unfitted */\n",
       "  background-color: var(--sklearn-color-fitted-level-0);\n",
       "}\n",
       "\n",
       "#sk-container-id-1 input.sk-toggleable__control:checked~div.sk-toggleable__content {\n",
       "  /* Expand drop-down */\n",
       "  max-height: 200px;\n",
       "  max-width: 100%;\n",
       "  overflow: auto;\n",
       "}\n",
       "\n",
       "#sk-container-id-1 input.sk-toggleable__control:checked~label.sk-toggleable__label-arrow:before {\n",
       "  content: \"▾\";\n",
       "}\n",
       "\n",
       "/* Pipeline/ColumnTransformer-specific style */\n",
       "\n",
       "#sk-container-id-1 div.sk-label input.sk-toggleable__control:checked~label.sk-toggleable__label {\n",
       "  color: var(--sklearn-color-text);\n",
       "  background-color: var(--sklearn-color-unfitted-level-2);\n",
       "}\n",
       "\n",
       "#sk-container-id-1 div.sk-label.fitted input.sk-toggleable__control:checked~label.sk-toggleable__label {\n",
       "  background-color: var(--sklearn-color-fitted-level-2);\n",
       "}\n",
       "\n",
       "/* Estimator-specific style */\n",
       "\n",
       "/* Colorize estimator box */\n",
       "#sk-container-id-1 div.sk-estimator input.sk-toggleable__control:checked~label.sk-toggleable__label {\n",
       "  /* unfitted */\n",
       "  background-color: var(--sklearn-color-unfitted-level-2);\n",
       "}\n",
       "\n",
       "#sk-container-id-1 div.sk-estimator.fitted input.sk-toggleable__control:checked~label.sk-toggleable__label {\n",
       "  /* fitted */\n",
       "  background-color: var(--sklearn-color-fitted-level-2);\n",
       "}\n",
       "\n",
       "#sk-container-id-1 div.sk-label label.sk-toggleable__label,\n",
       "#sk-container-id-1 div.sk-label label {\n",
       "  /* The background is the default theme color */\n",
       "  color: var(--sklearn-color-text-on-default-background);\n",
       "}\n",
       "\n",
       "/* On hover, darken the color of the background */\n",
       "#sk-container-id-1 div.sk-label:hover label.sk-toggleable__label {\n",
       "  color: var(--sklearn-color-text);\n",
       "  background-color: var(--sklearn-color-unfitted-level-2);\n",
       "}\n",
       "\n",
       "/* Label box, darken color on hover, fitted */\n",
       "#sk-container-id-1 div.sk-label.fitted:hover label.sk-toggleable__label.fitted {\n",
       "  color: var(--sklearn-color-text);\n",
       "  background-color: var(--sklearn-color-fitted-level-2);\n",
       "}\n",
       "\n",
       "/* Estimator label */\n",
       "\n",
       "#sk-container-id-1 div.sk-label label {\n",
       "  font-family: monospace;\n",
       "  font-weight: bold;\n",
       "  display: inline-block;\n",
       "  line-height: 1.2em;\n",
       "}\n",
       "\n",
       "#sk-container-id-1 div.sk-label-container {\n",
       "  text-align: center;\n",
       "}\n",
       "\n",
       "/* Estimator-specific */\n",
       "#sk-container-id-1 div.sk-estimator {\n",
       "  font-family: monospace;\n",
       "  border: 1px dotted var(--sklearn-color-border-box);\n",
       "  border-radius: 0.25em;\n",
       "  box-sizing: border-box;\n",
       "  margin-bottom: 0.5em;\n",
       "  /* unfitted */\n",
       "  background-color: var(--sklearn-color-unfitted-level-0);\n",
       "}\n",
       "\n",
       "#sk-container-id-1 div.sk-estimator.fitted {\n",
       "  /* fitted */\n",
       "  background-color: var(--sklearn-color-fitted-level-0);\n",
       "}\n",
       "\n",
       "/* on hover */\n",
       "#sk-container-id-1 div.sk-estimator:hover {\n",
       "  /* unfitted */\n",
       "  background-color: var(--sklearn-color-unfitted-level-2);\n",
       "}\n",
       "\n",
       "#sk-container-id-1 div.sk-estimator.fitted:hover {\n",
       "  /* fitted */\n",
       "  background-color: var(--sklearn-color-fitted-level-2);\n",
       "}\n",
       "\n",
       "/* Specification for estimator info (e.g. \"i\" and \"?\") */\n",
       "\n",
       "/* Common style for \"i\" and \"?\" */\n",
       "\n",
       ".sk-estimator-doc-link,\n",
       "a:link.sk-estimator-doc-link,\n",
       "a:visited.sk-estimator-doc-link {\n",
       "  float: right;\n",
       "  font-size: smaller;\n",
       "  line-height: 1em;\n",
       "  font-family: monospace;\n",
       "  background-color: var(--sklearn-color-background);\n",
       "  border-radius: 1em;\n",
       "  height: 1em;\n",
       "  width: 1em;\n",
       "  text-decoration: none !important;\n",
       "  margin-left: 1ex;\n",
       "  /* unfitted */\n",
       "  border: var(--sklearn-color-unfitted-level-1) 1pt solid;\n",
       "  color: var(--sklearn-color-unfitted-level-1);\n",
       "}\n",
       "\n",
       ".sk-estimator-doc-link.fitted,\n",
       "a:link.sk-estimator-doc-link.fitted,\n",
       "a:visited.sk-estimator-doc-link.fitted {\n",
       "  /* fitted */\n",
       "  border: var(--sklearn-color-fitted-level-1) 1pt solid;\n",
       "  color: var(--sklearn-color-fitted-level-1);\n",
       "}\n",
       "\n",
       "/* On hover */\n",
       "div.sk-estimator:hover .sk-estimator-doc-link:hover,\n",
       ".sk-estimator-doc-link:hover,\n",
       "div.sk-label-container:hover .sk-estimator-doc-link:hover,\n",
       ".sk-estimator-doc-link:hover {\n",
       "  /* unfitted */\n",
       "  background-color: var(--sklearn-color-unfitted-level-3);\n",
       "  color: var(--sklearn-color-background);\n",
       "  text-decoration: none;\n",
       "}\n",
       "\n",
       "div.sk-estimator.fitted:hover .sk-estimator-doc-link.fitted:hover,\n",
       ".sk-estimator-doc-link.fitted:hover,\n",
       "div.sk-label-container:hover .sk-estimator-doc-link.fitted:hover,\n",
       ".sk-estimator-doc-link.fitted:hover {\n",
       "  /* fitted */\n",
       "  background-color: var(--sklearn-color-fitted-level-3);\n",
       "  color: var(--sklearn-color-background);\n",
       "  text-decoration: none;\n",
       "}\n",
       "\n",
       "/* Span, style for the box shown on hovering the info icon */\n",
       ".sk-estimator-doc-link span {\n",
       "  display: none;\n",
       "  z-index: 9999;\n",
       "  position: relative;\n",
       "  font-weight: normal;\n",
       "  right: .2ex;\n",
       "  padding: .5ex;\n",
       "  margin: .5ex;\n",
       "  width: min-content;\n",
       "  min-width: 20ex;\n",
       "  max-width: 50ex;\n",
       "  color: var(--sklearn-color-text);\n",
       "  box-shadow: 2pt 2pt 4pt #999;\n",
       "  /* unfitted */\n",
       "  background: var(--sklearn-color-unfitted-level-0);\n",
       "  border: .5pt solid var(--sklearn-color-unfitted-level-3);\n",
       "}\n",
       "\n",
       ".sk-estimator-doc-link.fitted span {\n",
       "  /* fitted */\n",
       "  background: var(--sklearn-color-fitted-level-0);\n",
       "  border: var(--sklearn-color-fitted-level-3);\n",
       "}\n",
       "\n",
       ".sk-estimator-doc-link:hover span {\n",
       "  display: block;\n",
       "}\n",
       "\n",
       "/* \"?\"-specific style due to the `<a>` HTML tag */\n",
       "\n",
       "#sk-container-id-1 a.estimator_doc_link {\n",
       "  float: right;\n",
       "  font-size: 1rem;\n",
       "  line-height: 1em;\n",
       "  font-family: monospace;\n",
       "  background-color: var(--sklearn-color-background);\n",
       "  border-radius: 1rem;\n",
       "  height: 1rem;\n",
       "  width: 1rem;\n",
       "  text-decoration: none;\n",
       "  /* unfitted */\n",
       "  color: var(--sklearn-color-unfitted-level-1);\n",
       "  border: var(--sklearn-color-unfitted-level-1) 1pt solid;\n",
       "}\n",
       "\n",
       "#sk-container-id-1 a.estimator_doc_link.fitted {\n",
       "  /* fitted */\n",
       "  border: var(--sklearn-color-fitted-level-1) 1pt solid;\n",
       "  color: var(--sklearn-color-fitted-level-1);\n",
       "}\n",
       "\n",
       "/* On hover */\n",
       "#sk-container-id-1 a.estimator_doc_link:hover {\n",
       "  /* unfitted */\n",
       "  background-color: var(--sklearn-color-unfitted-level-3);\n",
       "  color: var(--sklearn-color-background);\n",
       "  text-decoration: none;\n",
       "}\n",
       "\n",
       "#sk-container-id-1 a.estimator_doc_link.fitted:hover {\n",
       "  /* fitted */\n",
       "  background-color: var(--sklearn-color-fitted-level-3);\n",
       "}\n",
       "</style><div id=\"sk-container-id-1\" class=\"sk-top-container\"><div class=\"sk-text-repr-fallback\"><pre>RandomForestClassifier(n_estimators=10)</pre><b>In a Jupyter environment, please rerun this cell to show the HTML representation or trust the notebook. <br />On GitHub, the HTML representation is unable to render, please try loading this page with nbviewer.org.</b></div><div class=\"sk-container\" hidden><div class=\"sk-item\"><div class=\"sk-estimator  sk-toggleable\"><input class=\"sk-toggleable__control sk-hidden--visually\" id=\"sk-estimator-id-1\" type=\"checkbox\" checked><label for=\"sk-estimator-id-1\" class=\"sk-toggleable__label  sk-toggleable__label-arrow \">&nbsp;&nbsp;RandomForestClassifier<a class=\"sk-estimator-doc-link \" rel=\"noreferrer\" target=\"_blank\" href=\"https://scikit-learn.org/1.4/modules/generated/sklearn.ensemble.RandomForestClassifier.html\">?<span>Documentation for RandomForestClassifier</span></a><span class=\"sk-estimator-doc-link \">i<span>Not fitted</span></span></label><div class=\"sk-toggleable__content \"><pre>RandomForestClassifier(n_estimators=10)</pre></div> </div></div></div></div>"
      ],
      "text/plain": [
       "RandomForestClassifier(n_estimators=10)"
      ]
     },
     "execution_count": 25,
     "metadata": {},
     "output_type": "execute_result"
    }
   ],
   "source": [
    "RandomForestClassifier(n_estimators=10)"
   ]
  },
  {
   "cell_type": "markdown",
   "id": "3a231570-ce2a-4503-8988-414908cc52f8",
   "metadata": {},
   "source": [
    "# Advance Data type"
   ]
  },
  {
   "cell_type": "markdown",
   "id": "62897c5a-ce04-4ae6-b79e-1a20131b703b",
   "metadata": {},
   "source": [
    "## List"
   ]
  },
  {
   "cell_type": "code",
   "execution_count": 26,
   "id": "fc34fae8-f537-4543-a59d-d904f55061c9",
   "metadata": {},
   "outputs": [],
   "source": [
    "lst=[10,20,30,50]"
   ]
  },
  {
   "cell_type": "code",
   "execution_count": 27,
   "id": "036d269b-7508-4082-896d-9ddc49cafb7f",
   "metadata": {},
   "outputs": [
    {
     "data": {
      "text/plain": [
       "list"
      ]
     },
     "execution_count": 27,
     "metadata": {},
     "output_type": "execute_result"
    }
   ],
   "source": [
    "type(lst)"
   ]
  },
  {
   "cell_type": "code",
   "execution_count": 29,
   "id": "49140856-76e1-49eb-b268-640769ec32f3",
   "metadata": {},
   "outputs": [],
   "source": [
    "lst_1=list(range(0,10))"
   ]
  },
  {
   "cell_type": "code",
   "execution_count": 30,
   "id": "81290a7e-aab8-4344-b2f4-8c0276d84376",
   "metadata": {},
   "outputs": [
    {
     "data": {
      "text/plain": [
       "[0, 1, 2, 3, 4, 5, 6, 7, 8, 9]"
      ]
     },
     "execution_count": 30,
     "metadata": {},
     "output_type": "execute_result"
    }
   ],
   "source": [
    "lst_1"
   ]
  },
  {
   "cell_type": "code",
   "execution_count": 31,
   "id": "1553e13e-0c24-4d60-a815-c40673945c55",
   "metadata": {},
   "outputs": [
    {
     "data": {
      "text/plain": [
       "[10, 20, 30, 'abc', 'xyz', 10.25]"
      ]
     },
     "execution_count": 31,
     "metadata": {},
     "output_type": "execute_result"
    }
   ],
   "source": [
    "lst=[10,20,30,\"abc\",\"xyz\",10.25]\n",
    "lst"
   ]
  },
  {
   "cell_type": "code",
   "execution_count": 57,
   "id": "1ccfb079-1df3-46c0-a306-08edab53bd96",
   "metadata": {},
   "outputs": [
    {
     "data": {
      "text/plain": [
       "[10, 20, 30, 'abc', 'xyz', 10.25, [50, 60, 70], 50, 80, ('a', 5)]"
      ]
     },
     "execution_count": 57,
     "metadata": {},
     "output_type": "execute_result"
    }
   ],
   "source": [
    "lst=[10,20,30,\"abc\",\"xyz\",10.25,[50,60,70],50,80,(\"a\",5)]\n",
    "lst"
   ]
  },
  {
   "cell_type": "code",
   "execution_count": 33,
   "id": "0c96dede-4675-4287-aacf-7c316d4020ce",
   "metadata": {},
   "outputs": [
    {
     "data": {
      "text/plain": [
       "[0, 1, 2, 3, 4, 5, 6, 7, 8, 9]"
      ]
     },
     "execution_count": 33,
     "metadata": {},
     "output_type": "execute_result"
    }
   ],
   "source": [
    "lst_1"
   ]
  },
  {
   "cell_type": "code",
   "execution_count": 34,
   "id": "6b508ff1-7a38-45de-b443-a1da71b9a870",
   "metadata": {},
   "outputs": [
    {
     "data": {
      "text/plain": [
       "6"
      ]
     },
     "execution_count": 34,
     "metadata": {},
     "output_type": "execute_result"
    }
   ],
   "source": [
    "lst_1[6]"
   ]
  },
  {
   "cell_type": "code",
   "execution_count": 35,
   "id": "1934b199-0047-49ec-a1d6-8185bc52e328",
   "metadata": {},
   "outputs": [
    {
     "data": {
      "text/plain": [
       "[10, 20, 30, 'abc', 'xyz', 10.25, [50, 60, 70]]"
      ]
     },
     "execution_count": 35,
     "metadata": {},
     "output_type": "execute_result"
    }
   ],
   "source": [
    "lst"
   ]
  },
  {
   "cell_type": "code",
   "execution_count": 36,
   "id": "b831acb2-6640-4842-a349-4c866e509fa3",
   "metadata": {},
   "outputs": [
    {
     "data": {
      "text/plain": [
       "'abc'"
      ]
     },
     "execution_count": 36,
     "metadata": {},
     "output_type": "execute_result"
    }
   ],
   "source": [
    "lst[3]"
   ]
  },
  {
   "cell_type": "code",
   "execution_count": 37,
   "id": "2858d75b-0b7a-43bd-9492-a79d1e7d8ad7",
   "metadata": {},
   "outputs": [
    {
     "data": {
      "text/plain": [
       "[10, 20, 30, 'abc', 'xyz', 10.25, [50, 60, 70]]"
      ]
     },
     "execution_count": 37,
     "metadata": {},
     "output_type": "execute_result"
    }
   ],
   "source": [
    "lst"
   ]
  },
  {
   "cell_type": "code",
   "execution_count": 40,
   "id": "8b9dbdc1-9c6a-4cc5-82a6-609d160002c0",
   "metadata": {},
   "outputs": [
    {
     "data": {
      "text/plain": [
       "60"
      ]
     },
     "execution_count": 40,
     "metadata": {},
     "output_type": "execute_result"
    }
   ],
   "source": [
    "lst[6][1]"
   ]
  },
  {
   "cell_type": "code",
   "execution_count": 46,
   "id": "a6ef07aa-4906-40c1-83b2-69052c60b68a",
   "metadata": {},
   "outputs": [],
   "source": [
    "lst.append(\"Orange\")"
   ]
  },
  {
   "cell_type": "code",
   "execution_count": 47,
   "id": "b88e6b7c-9027-4ab5-9cb5-3210bc0f48df",
   "metadata": {},
   "outputs": [
    {
     "data": {
      "text/plain": [
       "[10, 20, 30, 'abc', 'xyz', 10.25, [50, 60, 70], 50, 80, ('a', 5), 'Orange']"
      ]
     },
     "execution_count": 47,
     "metadata": {},
     "output_type": "execute_result"
    }
   ],
   "source": [
    "lst"
   ]
  },
  {
   "cell_type": "code",
   "execution_count": 48,
   "id": "07ae1b8c-c27f-4028-abf0-69cba88b3b27",
   "metadata": {},
   "outputs": [],
   "source": [
    "lst.insert(1,200)"
   ]
  },
  {
   "cell_type": "code",
   "execution_count": 60,
   "id": "5ebc797b-67d2-4ffe-9608-a9c529513ccb",
   "metadata": {},
   "outputs": [
    {
     "data": {
      "text/plain": [
       "30"
      ]
     },
     "execution_count": 60,
     "metadata": {},
     "output_type": "execute_result"
    }
   ],
   "source": [
    "lst.pop(1)"
   ]
  },
  {
   "cell_type": "code",
   "execution_count": 63,
   "id": "62575baf-9d49-4199-bf08-23aebcd53548",
   "metadata": {},
   "outputs": [],
   "source": [
    "lst.remove(10)"
   ]
  },
  {
   "cell_type": "code",
   "execution_count": 65,
   "id": "277e69c2-4bba-4853-a024-e54fb495007f",
   "metadata": {},
   "outputs": [
    {
     "ename": "TypeError",
     "evalue": "'<' not supported between instances of 'float' and 'str'",
     "output_type": "error",
     "traceback": [
      "\u001b[1;31m---------------------------------------------------------------------------\u001b[0m",
      "\u001b[1;31mTypeError\u001b[0m                                 Traceback (most recent call last)",
      "Cell \u001b[1;32mIn[65], line 1\u001b[0m\n\u001b[1;32m----> 1\u001b[0m \u001b[43mlst\u001b[49m\u001b[38;5;241;43m.\u001b[39;49m\u001b[43msort\u001b[49m\u001b[43m(\u001b[49m\u001b[43m)\u001b[49m\n",
      "\u001b[1;31mTypeError\u001b[0m: '<' not supported between instances of 'float' and 'str'"
     ]
    }
   ],
   "source": [
    "lst.sort()"
   ]
  },
  {
   "cell_type": "code",
   "execution_count": 66,
   "id": "2ad7d584-94d7-4ee0-8cf6-437f8698af07",
   "metadata": {},
   "outputs": [],
   "source": [
    "lst.clear()"
   ]
  },
  {
   "cell_type": "code",
   "execution_count": 67,
   "id": "27c0bbaf-ccd6-4347-8e97-a8951f97f60b",
   "metadata": {},
   "outputs": [
    {
     "data": {
      "text/plain": [
       "[]"
      ]
     },
     "execution_count": 67,
     "metadata": {},
     "output_type": "execute_result"
    }
   ],
   "source": [
    "lst"
   ]
  },
  {
   "cell_type": "code",
   "execution_count": 68,
   "id": "087425f1-a446-494f-a5e0-4a6da093544c",
   "metadata": {},
   "outputs": [],
   "source": [
    "tup=(10,20,30,40)"
   ]
  },
  {
   "cell_type": "code",
   "execution_count": 72,
   "id": "bb7b98ce-362b-435e-a38f-965afaca54c3",
   "metadata": {},
   "outputs": [],
   "source": [
    "set={10,10.2,\"a\",(50,60)}"
   ]
  },
  {
   "cell_type": "code",
   "execution_count": 74,
   "id": "b014cbd3-2906-40da-82bd-7af6e65fcb26",
   "metadata": {},
   "outputs": [
    {
     "data": {
      "text/plain": [
       "{(50, 60), 10, 10.2, 'a'}"
      ]
     },
     "execution_count": 74,
     "metadata": {},
     "output_type": "execute_result"
    }
   ],
   "source": [
    "set"
   ]
  },
  {
   "cell_type": "code",
   "execution_count": 75,
   "id": "f0bb833a-63cc-4eaa-8c4d-ff9f16a770eb",
   "metadata": {},
   "outputs": [],
   "source": [
    "set_1={1,2,3,4,5}\n",
    "set_2={4,5,6,7,8}"
   ]
  },
  {
   "cell_type": "code",
   "execution_count": 76,
   "id": "a4581798-802a-4834-b879-9704a5911b5c",
   "metadata": {},
   "outputs": [
    {
     "data": {
      "text/plain": [
       "{1, 2, 3}"
      ]
     },
     "execution_count": 76,
     "metadata": {},
     "output_type": "execute_result"
    }
   ],
   "source": [
    "set_1.difference(set_2)"
   ]
  },
  {
   "cell_type": "code",
   "execution_count": 77,
   "id": "ce2b1545-91ef-4fcd-ab81-02e0c49bcf05",
   "metadata": {},
   "outputs": [
    {
     "data": {
      "text/plain": [
       "{6, 7, 8}"
      ]
     },
     "execution_count": 77,
     "metadata": {},
     "output_type": "execute_result"
    }
   ],
   "source": [
    "set_2.difference(set_1)"
   ]
  },
  {
   "cell_type": "code",
   "execution_count": 78,
   "id": "21bab839-7171-463f-a580-74ea5df629fa",
   "metadata": {},
   "outputs": [
    {
     "data": {
      "text/plain": [
       "{1, 2, 3, 4, 5, 6, 7, 8}"
      ]
     },
     "execution_count": 78,
     "metadata": {},
     "output_type": "execute_result"
    }
   ],
   "source": [
    "set_1.union(set_2)"
   ]
  },
  {
   "cell_type": "code",
   "execution_count": 80,
   "id": "4feaa690-1eec-4548-a4bb-85c68ae27891",
   "metadata": {},
   "outputs": [
    {
     "data": {
      "text/plain": [
       "False"
      ]
     },
     "execution_count": 80,
     "metadata": {},
     "output_type": "execute_result"
    }
   ],
   "source": [
    "set_1.issubset({1,2})"
   ]
  },
  {
   "cell_type": "code",
   "execution_count": 81,
   "id": "c91489f4-38db-4b3d-99b0-fc19da4aa352",
   "metadata": {},
   "outputs": [],
   "source": [
    "set_1={10,20,30,10,20,80,90}"
   ]
  },
  {
   "cell_type": "code",
   "execution_count": 82,
   "id": "67d2336e-7e19-4f78-9362-0b85edff22d5",
   "metadata": {},
   "outputs": [
    {
     "data": {
      "text/plain": [
       "{10, 20, 30, 80, 90}"
      ]
     },
     "execution_count": 82,
     "metadata": {},
     "output_type": "execute_result"
    }
   ],
   "source": [
    "set_1"
   ]
  }
 ],
 "metadata": {
  "kernelspec": {
   "display_name": "Python 3 (ipykernel)",
   "language": "python",
   "name": "python3"
  },
  "language_info": {
   "codemirror_mode": {
    "name": "ipython",
    "version": 3
   },
   "file_extension": ".py",
   "mimetype": "text/x-python",
   "name": "python",
   "nbconvert_exporter": "python",
   "pygments_lexer": "ipython3",
   "version": "3.12.1"
  }
 },
 "nbformat": 4,
 "nbformat_minor": 5
}
